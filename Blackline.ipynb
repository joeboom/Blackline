{
 "cells": [
  {
   "cell_type": "markdown",
   "metadata": {},
   "source": [
    "# Blackline\n",
    "\n",
    "## Objective: To design a program which takes as input two images of text and outputs a report highlighting all changes between the first and second document.\n",
    "\n",
    "### Use Case: This program was designed to identify changes between iterations of the same document."
   ]
  },
  {
   "cell_type": "code",
   "execution_count": 57,
   "metadata": {},
   "outputs": [],
   "source": [
    "# Pytesseract is a wrapper over tesseract which is an OCR engine, PIL is an image processing library\n",
    "import pytesseract\n",
    "from PIL import Image\n",
    "from matplotlib import pyplot as plt\n",
    "import difflib\n",
    "from IPython.core.display import display, HTML\n",
    "import imgkit"
   ]
  },
  {
   "cell_type": "code",
   "execution_count": 37,
   "metadata": {},
   "outputs": [],
   "source": [
    "# accessing two sample images. 'test' is the first two verses and the chorus from SKINNY LOVE. 'test_1'\n",
    "# is the same but with a few modifications\n",
    "\n",
    "test = Image.open('/Users/joel/Desktop/orig.png')\n",
    "test_1 = Image.open('/Users/joel/Desktop/remix.png')"
   ]
  },
  {
   "cell_type": "code",
   "execution_count": 33,
   "metadata": {},
   "outputs": [
    {
     "name": "stdout",
     "output_type": "stream",
     "text": [
      "Come on skinny love just last the year\n",
      "Pour a little salt we were never here\n",
      "My , my, my, my, my, my, my, my\n",
      "Staring at the sink of blood and crushed veneer\n",
      "I tell my love to wreck it all\n",
      "\n",
      "Cut out all the ropes and let me fall\n",
      "MY , my, my, my, my, my, my, my\n",
      "Right in the moment this order's tall\n",
      "\n",
      "I told you to be patient\n",
      "\n",
      "I told you to be fine\n",
      "\n",
      "I told you to be balanced\n",
      "\n",
      "I told you to be kind\n",
      "\n",
      "In the morning I'll be with you\n",
      "\n",
      "But it will be a different \"kind\"\n",
      "\n",
      "I'll be holding all the tickets\n",
      "\n",
      "And you'll be owning all the fines\n"
     ]
    }
   ],
   "source": [
    "print(pytesseract.image_to_string(test))"
   ]
  },
  {
   "cell_type": "code",
   "execution_count": 34,
   "metadata": {},
   "outputs": [
    {
     "data": {
      "text/plain": [
       "<matplotlib.image.AxesImage at 0x11e8cdd30>"
      ]
     },
     "execution_count": 34,
     "metadata": {},
     "output_type": "execute_result"
    },
    {
     "data": {
      "image/png": "[encoded data removed]",
      "text/plain": [
       "<Figure size 432x288 with 1 Axes>"
      ]
     },
     "metadata": {},
     "output_type": "display_data"
    }
   ],
   "source": [
    "plt.imshow(test)"
   ]
  },
  {
   "cell_type": "code",
   "execution_count": 41,
   "metadata": {},
   "outputs": [
    {
     "name": "stdout",
     "output_type": "stream",
     "text": [
      "Come on skinny love just last the month\n",
      "Pour a little salt we were never here\n",
      "\n",
      "My , my, my, my, my, my, my, my\n",
      "Staring at the sink of wine and crushed veneer\n",
      "I tell my love to wreck it all\n",
      "\n",
      "Cut out all the ropes and let me fall\n",
      "\n",
      "MY , my, my, my, my, my, my, my\n",
      "\n",
      "Right in the moment this order's tall\n",
      "\n",
      "I told you to be salient\n",
      "\n",
      "I told you to be fine\n",
      "\n",
      "I told you to be balanced\n",
      "\n",
      "I told you to be kind\n",
      "\n",
      "In the morning I'll be with you\n",
      "\n",
      "But it will be a different \"kind\"\n",
      "\n",
      "I'll be holding all the goodies\n"
     ]
    }
   ],
   "source": [
    "print(pytesseract.image_to_string(test_1))"
   ]
  },
  {
   "cell_type": "code",
   "execution_count": 42,
   "metadata": {},
   "outputs": [
    {
     "data": {
      "text/plain": [
       "<matplotlib.image.AxesImage at 0x11f487c88>"
      ]
     },
     "execution_count": 42,
     "metadata": {},
     "output_type": "execute_result"
    },
    {
     "data": {
      "image/png": "[encoded data removed]",
      "text/plain": [
       "<Figure size 432x288 with 1 Axes>"
      ]
     },
     "metadata": {},
     "output_type": "display_data"
    }
   ],
   "source": [
    "plt.imshow(test_1)"
   ]
  },
  {
   "cell_type": "code",
   "execution_count": 53,
   "metadata": {},
   "outputs": [],
   "source": [
    "# Creating list where each element is one string of the song\n",
    "\n",
    "raw_orig = pytesseract.image_to_string(test)\n",
    "list_orig = raw_orig.split('\\n')\n",
    "\n",
    "raw_remix = pytesseract.image_to_string(test_1)\n",
    "list_remix = raw_remix.split('\\n')"
   ]
  },
  {
   "cell_type": "code",
   "execution_count": 61,
   "metadata": {},
   "outputs": [],
   "source": [
    "# Creating an html string which represents a report detailing the differences between the test and test1 strings\n",
    "\n",
    "difference_report = difflib.HtmlDiff().make_file(list_orig, list_remix, 'ORIGINAL', 'REMIX', )"
   ]
  },
  {
   "cell_type": "code",
   "execution_count": 75,
   "metadata": {},
   "outputs": [
    {
     "data": {
      "text/plain": [
       "10914"
      ]
     },
     "execution_count": 75,
     "metadata": {},
     "output_type": "execute_result"
    }
   ],
   "source": [
    "### Now let's save the report to an html report which we can view\n",
    "file = open('/Users/joel/Desktop/report.html', 'w')\n",
    "file.write(difference_report)"
   ]
  },
  {
   "cell_type": "markdown",
   "metadata": {},
   "source": [
    "# We now have report.html - which is saved in the repository - which shows all the differences between the two files. "
   ]
  }
 ],
 "metadata": {
  "kernelspec": {
   "display_name": "Python 3",
   "language": "python",
   "name": "python3"
  },
  "language_info": {
   "codemirror_mode": {
    "name": "ipython",
    "version": 3
   },
   "file_extension": ".py",
   "mimetype": "text/x-python",
   "name": "python",
   "nbconvert_exporter": "python",
   "pygments_lexer": "ipython3",
   "version": "3.6.5"
  }
 },
 "nbformat": 4,
 "nbformat_minor": 2
}
